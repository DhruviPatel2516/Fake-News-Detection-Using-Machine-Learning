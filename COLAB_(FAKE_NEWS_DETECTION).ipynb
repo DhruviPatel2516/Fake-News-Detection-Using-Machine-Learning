{
  "nbformat": 4,
  "nbformat_minor": 0,
  "metadata": {
    "colab": {
      "provenance": []
    },
    "kernelspec": {
      "name": "python3",
      "display_name": "Python 3"
    },
    "language_info": {
      "name": "python"
    }
  },
  "cells": [
    {
      "cell_type": "code",
      "metadata": {
        "colab": {
          "base_uri": "https://localhost:8080/"
        },
        "id": "tSOSucCWP-cT",
        "outputId": "52c1eb2b-b650-4441-90d1-5e668a34a2b8"
      },
      "source": [
        "!pip install -q wordcloud\n",
        "import wordcloud\n",
        "\n",
        "import nltk\n",
        "nltk.download('stopwords')\n",
        "nltk.download('wordnet')\n",
        "nltk.download('punkt')\n",
        "nltk.download('averaged_perceptron_tagger') \n",
        "\n",
        "import pandas as pd\n",
        "import matplotlib.pyplot as plt\n",
        "import io\n",
        "import unicodedata\n",
        "import numpy as np\n",
        "import re\n",
        "import string"
      ],
      "execution_count": null,
      "outputs": [
        {
          "output_type": "stream",
          "name": "stdout",
          "text": [
            "[nltk_data] Downloading package stopwords to /root/nltk_data...\n",
            "[nltk_data]   Package stopwords is already up-to-date!\n",
            "[nltk_data] Downloading package wordnet to /root/nltk_data...\n",
            "[nltk_data]   Package wordnet is already up-to-date!\n",
            "[nltk_data] Downloading package punkt to /root/nltk_data...\n",
            "[nltk_data]   Package punkt is already up-to-date!\n",
            "[nltk_data] Downloading package averaged_perceptron_tagger to\n",
            "[nltk_data]     /root/nltk_data...\n",
            "[nltk_data]   Package averaged_perceptron_tagger is already up-to-\n",
            "[nltk_data]       date!\n"
          ]
        }
      ]
    },
    {
      "cell_type": "code",
      "metadata": {
        "id": "nDW9izZeQMwi"
      },
      "source": [
        "import pandas as pd\n",
        "import numpy as np\n",
        "import matplotlib.pyplot as plt\n",
        "\n",
        "# NLP libraries to clean the text data\n",
        "from nltk.corpus import stopwords\n",
        "from nltk.stem.porter import PorterStemmer\n",
        "import re\n",
        "\n",
        "# Vectorization technique TF-IDF\n",
        "from sklearn.feature_extraction.text import TfidfVectorizer\n",
        "\n",
        "# For Splitting the dataset\n",
        "from sklearn.model_selection import train_test_split\n",
        "\n",
        "# Model libraries\n",
        "from sklearn.linear_model import LogisticRegression\n",
        "from sklearn.svm import SVC\n",
        "from sklearn.ensemble import RandomForestClassifier\n",
        "from sklearn.tree import DecisionTreeClassifier\n",
        "\n",
        "#Accuracy ,Confusion matrix,  Precision , Recall , F1 score measuring library\n",
        "from sklearn.metrics import accuracy_score\n",
        "from sklearn.metrics import precision_score\n",
        "from sklearn.metrics import recall_score\n",
        "from sklearn.metrics import f1_score\n",
        "from sklearn.metrics import confusion_matrix"
      ],
      "execution_count": null,
      "outputs": []
    },
    {
      "cell_type": "code",
      "metadata": {
        "colab": {
          "base_uri": "https://localhost:8080/",
          "height": 497
        },
        "id": "RQZIO1PzQMmw",
        "outputId": "ed9984f0-abe4-46f3-970a-cd530596f594"
      },
      "source": [
        "data = pd.read_csv(\"/content/data.csv\")\n",
        "data"
      ],
      "execution_count": null,
      "outputs": [
        {
          "output_type": "execute_result",
          "data": {
            "text/html": [
              "<div>\n",
              "<style scoped>\n",
              "    .dataframe tbody tr th:only-of-type {\n",
              "        vertical-align: middle;\n",
              "    }\n",
              "\n",
              "    .dataframe tbody tr th {\n",
              "        vertical-align: top;\n",
              "    }\n",
              "\n",
              "    .dataframe thead th {\n",
              "        text-align: right;\n",
              "    }\n",
              "</style>\n",
              "<table border=\"1\" class=\"dataframe\">\n",
              "  <thead>\n",
              "    <tr style=\"text-align: right;\">\n",
              "      <th></th>\n",
              "      <th>URLs</th>\n",
              "      <th>Headline</th>\n",
              "      <th>Body</th>\n",
              "      <th>Label</th>\n",
              "    </tr>\n",
              "  </thead>\n",
              "  <tbody>\n",
              "    <tr>\n",
              "      <th>0</th>\n",
              "      <td>http://www.bbc.com/news/world-us-canada-414191...</td>\n",
              "      <td>Four ways Bob Corker skewered Donald Trump</td>\n",
              "      <td>Image copyright Getty Images\\nOn Sunday mornin...</td>\n",
              "      <td>1</td>\n",
              "    </tr>\n",
              "    <tr>\n",
              "      <th>1</th>\n",
              "      <td>https://www.reuters.com/article/us-filmfestiva...</td>\n",
              "      <td>Linklater's war veteran comedy speaks to moder...</td>\n",
              "      <td>LONDON (Reuters) - “Last Flag Flying”, a comed...</td>\n",
              "      <td>1</td>\n",
              "    </tr>\n",
              "    <tr>\n",
              "      <th>2</th>\n",
              "      <td>https://www.nytimes.com/2017/10/09/us/politics...</td>\n",
              "      <td>Trump’s Fight With Corker Jeopardizes His Legi...</td>\n",
              "      <td>The feud broke into public view last week when...</td>\n",
              "      <td>1</td>\n",
              "    </tr>\n",
              "    <tr>\n",
              "      <th>3</th>\n",
              "      <td>https://www.reuters.com/article/us-mexico-oil-...</td>\n",
              "      <td>Egypt's Cheiron wins tie-up with Pemex for Mex...</td>\n",
              "      <td>MEXICO CITY (Reuters) - Egypt’s Cheiron Holdin...</td>\n",
              "      <td>1</td>\n",
              "    </tr>\n",
              "    <tr>\n",
              "      <th>4</th>\n",
              "      <td>http://www.cnn.com/videos/cnnmoney/2017/10/08/...</td>\n",
              "      <td>Jason Aldean opens 'SNL' with Vegas tribute</td>\n",
              "      <td>Country singer Jason Aldean, who was performin...</td>\n",
              "      <td>1</td>\n",
              "    </tr>\n",
              "    <tr>\n",
              "      <th>...</th>\n",
              "      <td>...</td>\n",
              "      <td>...</td>\n",
              "      <td>...</td>\n",
              "      <td>...</td>\n",
              "    </tr>\n",
              "    <tr>\n",
              "      <th>4004</th>\n",
              "      <td>http://beforeitsnews.com/sports/2017/09/trends...</td>\n",
              "      <td>Trends to Watch</td>\n",
              "      <td>Trends to Watch\\n% of readers think this story...</td>\n",
              "      <td>0</td>\n",
              "    </tr>\n",
              "    <tr>\n",
              "      <th>4005</th>\n",
              "      <td>http://beforeitsnews.com/u-s-politics/2017/10/...</td>\n",
              "      <td>Trump Jr. Is Soon To Give A 30-Minute Speech F...</td>\n",
              "      <td>Trump Jr. Is Soon To Give A 30-Minute Speech F...</td>\n",
              "      <td>0</td>\n",
              "    </tr>\n",
              "    <tr>\n",
              "      <th>4006</th>\n",
              "      <td>https://www.activistpost.com/2017/09/ron-paul-...</td>\n",
              "      <td>Ron Paul on Trump, Anarchism &amp; the AltRight</td>\n",
              "      <td>NaN</td>\n",
              "      <td>0</td>\n",
              "    </tr>\n",
              "    <tr>\n",
              "      <th>4007</th>\n",
              "      <td>https://www.reuters.com/article/us-china-pharm...</td>\n",
              "      <td>China to accept overseas trial data in bid to ...</td>\n",
              "      <td>SHANGHAI (Reuters) - China said it plans to ac...</td>\n",
              "      <td>1</td>\n",
              "    </tr>\n",
              "    <tr>\n",
              "      <th>4008</th>\n",
              "      <td>http://beforeitsnews.com/u-s-politics/2017/10/...</td>\n",
              "      <td>Vice President Mike Pence Leaves NFL Game Beca...</td>\n",
              "      <td>Vice President Mike Pence Leaves NFL Game Beca...</td>\n",
              "      <td>0</td>\n",
              "    </tr>\n",
              "  </tbody>\n",
              "</table>\n",
              "<p>4009 rows × 4 columns</p>\n",
              "</div>"
            ],
            "text/plain": [
              "                                                   URLs  ... Label\n",
              "0     http://www.bbc.com/news/world-us-canada-414191...  ...     1\n",
              "1     https://www.reuters.com/article/us-filmfestiva...  ...     1\n",
              "2     https://www.nytimes.com/2017/10/09/us/politics...  ...     1\n",
              "3     https://www.reuters.com/article/us-mexico-oil-...  ...     1\n",
              "4     http://www.cnn.com/videos/cnnmoney/2017/10/08/...  ...     1\n",
              "...                                                 ...  ...   ...\n",
              "4004  http://beforeitsnews.com/sports/2017/09/trends...  ...     0\n",
              "4005  http://beforeitsnews.com/u-s-politics/2017/10/...  ...     0\n",
              "4006  https://www.activistpost.com/2017/09/ron-paul-...  ...     0\n",
              "4007  https://www.reuters.com/article/us-china-pharm...  ...     1\n",
              "4008  http://beforeitsnews.com/u-s-politics/2017/10/...  ...     0\n",
              "\n",
              "[4009 rows x 4 columns]"
            ]
          },
          "metadata": {},
          "execution_count": 26
        }
      ]
    },
    {
      "cell_type": "code",
      "metadata": {
        "colab": {
          "base_uri": "https://localhost:8080/"
        },
        "id": "GIpcUXsbQ_f_",
        "outputId": "9816e3c0-ea2e-4ab8-ba2e-4620b70cdbfa"
      },
      "source": [
        "data.shape"
      ],
      "execution_count": null,
      "outputs": [
        {
          "output_type": "execute_result",
          "data": {
            "text/plain": [
              "(4009, 4)"
            ]
          },
          "metadata": {},
          "execution_count": 27
        }
      ]
    },
    {
      "cell_type": "code",
      "metadata": {
        "colab": {
          "base_uri": "https://localhost:8080/",
          "height": 202
        },
        "id": "TsHp1NWlQMcE",
        "outputId": "4c8cd079-1df5-4929-eb58-03723b989e8e"
      },
      "source": [
        "data.head()"
      ],
      "execution_count": null,
      "outputs": [
        {
          "output_type": "execute_result",
          "data": {
            "text/html": [
              "<div>\n",
              "<style scoped>\n",
              "    .dataframe tbody tr th:only-of-type {\n",
              "        vertical-align: middle;\n",
              "    }\n",
              "\n",
              "    .dataframe tbody tr th {\n",
              "        vertical-align: top;\n",
              "    }\n",
              "\n",
              "    .dataframe thead th {\n",
              "        text-align: right;\n",
              "    }\n",
              "</style>\n",
              "<table border=\"1\" class=\"dataframe\">\n",
              "  <thead>\n",
              "    <tr style=\"text-align: right;\">\n",
              "      <th></th>\n",
              "      <th>URLs</th>\n",
              "      <th>Headline</th>\n",
              "      <th>Body</th>\n",
              "      <th>Label</th>\n",
              "    </tr>\n",
              "  </thead>\n",
              "  <tbody>\n",
              "    <tr>\n",
              "      <th>0</th>\n",
              "      <td>http://www.bbc.com/news/world-us-canada-414191...</td>\n",
              "      <td>Four ways Bob Corker skewered Donald Trump</td>\n",
              "      <td>Image copyright Getty Images\\nOn Sunday mornin...</td>\n",
              "      <td>1</td>\n",
              "    </tr>\n",
              "    <tr>\n",
              "      <th>1</th>\n",
              "      <td>https://www.reuters.com/article/us-filmfestiva...</td>\n",
              "      <td>Linklater's war veteran comedy speaks to moder...</td>\n",
              "      <td>LONDON (Reuters) - “Last Flag Flying”, a comed...</td>\n",
              "      <td>1</td>\n",
              "    </tr>\n",
              "    <tr>\n",
              "      <th>2</th>\n",
              "      <td>https://www.nytimes.com/2017/10/09/us/politics...</td>\n",
              "      <td>Trump’s Fight With Corker Jeopardizes His Legi...</td>\n",
              "      <td>The feud broke into public view last week when...</td>\n",
              "      <td>1</td>\n",
              "    </tr>\n",
              "    <tr>\n",
              "      <th>3</th>\n",
              "      <td>https://www.reuters.com/article/us-mexico-oil-...</td>\n",
              "      <td>Egypt's Cheiron wins tie-up with Pemex for Mex...</td>\n",
              "      <td>MEXICO CITY (Reuters) - Egypt’s Cheiron Holdin...</td>\n",
              "      <td>1</td>\n",
              "    </tr>\n",
              "    <tr>\n",
              "      <th>4</th>\n",
              "      <td>http://www.cnn.com/videos/cnnmoney/2017/10/08/...</td>\n",
              "      <td>Jason Aldean opens 'SNL' with Vegas tribute</td>\n",
              "      <td>Country singer Jason Aldean, who was performin...</td>\n",
              "      <td>1</td>\n",
              "    </tr>\n",
              "  </tbody>\n",
              "</table>\n",
              "</div>"
            ],
            "text/plain": [
              "                                                URLs  ... Label\n",
              "0  http://www.bbc.com/news/world-us-canada-414191...  ...     1\n",
              "1  https://www.reuters.com/article/us-filmfestiva...  ...     1\n",
              "2  https://www.nytimes.com/2017/10/09/us/politics...  ...     1\n",
              "3  https://www.reuters.com/article/us-mexico-oil-...  ...     1\n",
              "4  http://www.cnn.com/videos/cnnmoney/2017/10/08/...  ...     1\n",
              "\n",
              "[5 rows x 4 columns]"
            ]
          },
          "metadata": {},
          "execution_count": 29
        }
      ]
    },
    {
      "cell_type": "code",
      "metadata": {
        "colab": {
          "base_uri": "https://localhost:8080/"
        },
        "id": "UZLGJwwmQMRK",
        "outputId": "990239a1-1119-472d-a58d-5d06b4a5eaf8"
      },
      "source": [
        "data.columns"
      ],
      "execution_count": null,
      "outputs": [
        {
          "output_type": "execute_result",
          "data": {
            "text/plain": [
              "Index(['URLs', 'Headline', 'Body', 'Label'], dtype='object')"
            ]
          },
          "metadata": {},
          "execution_count": 30
        }
      ]
    },
    {
      "cell_type": "code",
      "metadata": {
        "colab": {
          "base_uri": "https://localhost:8080/"
        },
        "id": "R6m9QeTIQLuu",
        "outputId": "ace44af0-7dc5-4460-8b79-e3704772dcd5"
      },
      "source": [
        "data.isnull().sum()"
      ],
      "execution_count": null,
      "outputs": [
        {
          "output_type": "execute_result",
          "data": {
            "text/plain": [
              "URLs         0\n",
              "Headline     0\n",
              "Body        21\n",
              "Label        0\n",
              "dtype: int64"
            ]
          },
          "metadata": {},
          "execution_count": 31
        }
      ]
    },
    {
      "cell_type": "markdown",
      "source": [
        "#DATA PREPROCESSING\n",
        "\n",
        "#INCLUDES:\n",
        "#1. Removing the Null values\n",
        "#2. Adding a new field\n",
        "#3. Drop features that are not needed\n",
        "#4. Text Processing"
      ],
      "metadata": {
        "id": "dgzQswZOENtI"
      }
    },
    {
      "cell_type": "code",
      "metadata": {
        "id": "KLQehJW5SHgM"
      },
      "source": [
        "df = data.copy()"
      ],
      "execution_count": null,
      "outputs": []
    },
    {
      "cell_type": "code",
      "metadata": {
        "id": "AlZ6DKaMSHWE"
      },
      "source": [
        "#1. Removing the Null Values\n",
        "\n",
        "df['Body'] = df['Body'].fillna('')"
      ],
      "execution_count": null,
      "outputs": []
    },
    {
      "cell_type": "code",
      "metadata": {
        "colab": {
          "base_uri": "https://localhost:8080/"
        },
        "id": "y1VMsLvfSHK7",
        "outputId": "ccac212a-f3a9-4770-f912-d4171d51279f"
      },
      "source": [
        "df.isnull().sum()"
      ],
      "execution_count": null,
      "outputs": [
        {
          "output_type": "execute_result",
          "data": {
            "text/plain": [
              "URLs        0\n",
              "Headline    0\n",
              "Body        0\n",
              "Label       0\n",
              "dtype: int64"
            ]
          },
          "metadata": {},
          "execution_count": 35
        }
      ]
    },
    {
      "cell_type": "code",
      "metadata": {
        "id": "FpCAKpnLSHAQ"
      },
      "source": [
        "#2. Adding a new column\n",
        "\n",
        "df['News'] = df['Headline']+df['Body']"
      ],
      "execution_count": null,
      "outputs": []
    },
    {
      "cell_type": "code",
      "metadata": {
        "colab": {
          "base_uri": "https://localhost:8080/",
          "height": 285
        },
        "id": "poyGp2hWSGzs",
        "outputId": "139c6931-6787-4044-8073-7098afc0a5ae"
      },
      "source": [
        "df.head()"
      ],
      "execution_count": null,
      "outputs": [
        {
          "output_type": "execute_result",
          "data": {
            "text/html": [
              "<div>\n",
              "<style scoped>\n",
              "    .dataframe tbody tr th:only-of-type {\n",
              "        vertical-align: middle;\n",
              "    }\n",
              "\n",
              "    .dataframe tbody tr th {\n",
              "        vertical-align: top;\n",
              "    }\n",
              "\n",
              "    .dataframe thead th {\n",
              "        text-align: right;\n",
              "    }\n",
              "</style>\n",
              "<table border=\"1\" class=\"dataframe\">\n",
              "  <thead>\n",
              "    <tr style=\"text-align: right;\">\n",
              "      <th></th>\n",
              "      <th>URLs</th>\n",
              "      <th>Headline</th>\n",
              "      <th>Body</th>\n",
              "      <th>Label</th>\n",
              "      <th>News</th>\n",
              "    </tr>\n",
              "  </thead>\n",
              "  <tbody>\n",
              "    <tr>\n",
              "      <th>0</th>\n",
              "      <td>http://www.bbc.com/news/world-us-canada-414191...</td>\n",
              "      <td>Four ways Bob Corker skewered Donald Trump</td>\n",
              "      <td>Image copyright Getty Images\\nOn Sunday mornin...</td>\n",
              "      <td>1</td>\n",
              "      <td>Four ways Bob Corker skewered Donald TrumpImag...</td>\n",
              "    </tr>\n",
              "    <tr>\n",
              "      <th>1</th>\n",
              "      <td>https://www.reuters.com/article/us-filmfestiva...</td>\n",
              "      <td>Linklater's war veteran comedy speaks to moder...</td>\n",
              "      <td>LONDON (Reuters) - “Last Flag Flying”, a comed...</td>\n",
              "      <td>1</td>\n",
              "      <td>Linklater's war veteran comedy speaks to moder...</td>\n",
              "    </tr>\n",
              "    <tr>\n",
              "      <th>2</th>\n",
              "      <td>https://www.nytimes.com/2017/10/09/us/politics...</td>\n",
              "      <td>Trump’s Fight With Corker Jeopardizes His Legi...</td>\n",
              "      <td>The feud broke into public view last week when...</td>\n",
              "      <td>1</td>\n",
              "      <td>Trump’s Fight With Corker Jeopardizes His Legi...</td>\n",
              "    </tr>\n",
              "    <tr>\n",
              "      <th>3</th>\n",
              "      <td>https://www.reuters.com/article/us-mexico-oil-...</td>\n",
              "      <td>Egypt's Cheiron wins tie-up with Pemex for Mex...</td>\n",
              "      <td>MEXICO CITY (Reuters) - Egypt’s Cheiron Holdin...</td>\n",
              "      <td>1</td>\n",
              "      <td>Egypt's Cheiron wins tie-up with Pemex for Mex...</td>\n",
              "    </tr>\n",
              "    <tr>\n",
              "      <th>4</th>\n",
              "      <td>http://www.cnn.com/videos/cnnmoney/2017/10/08/...</td>\n",
              "      <td>Jason Aldean opens 'SNL' with Vegas tribute</td>\n",
              "      <td>Country singer Jason Aldean, who was performin...</td>\n",
              "      <td>1</td>\n",
              "      <td>Jason Aldean opens 'SNL' with Vegas tributeCou...</td>\n",
              "    </tr>\n",
              "  </tbody>\n",
              "</table>\n",
              "</div>"
            ],
            "text/plain": [
              "                                                URLs  ...                                               News\n",
              "0  http://www.bbc.com/news/world-us-canada-414191...  ...  Four ways Bob Corker skewered Donald TrumpImag...\n",
              "1  https://www.reuters.com/article/us-filmfestiva...  ...  Linklater's war veteran comedy speaks to moder...\n",
              "2  https://www.nytimes.com/2017/10/09/us/politics...  ...  Trump’s Fight With Corker Jeopardizes His Legi...\n",
              "3  https://www.reuters.com/article/us-mexico-oil-...  ...  Egypt's Cheiron wins tie-up with Pemex for Mex...\n",
              "4  http://www.cnn.com/videos/cnnmoney/2017/10/08/...  ...  Jason Aldean opens 'SNL' with Vegas tributeCou...\n",
              "\n",
              "[5 rows x 5 columns]"
            ]
          },
          "metadata": {},
          "execution_count": 39
        }
      ]
    },
    {
      "cell_type": "code",
      "metadata": {
        "colab": {
          "base_uri": "https://localhost:8080/"
        },
        "id": "nXtiA1QBSGno",
        "outputId": "509651a9-a5ba-4bc5-bc56-193097d8b243"
      },
      "source": [
        "df.columns"
      ],
      "execution_count": null,
      "outputs": [
        {
          "output_type": "execute_result",
          "data": {
            "text/plain": [
              "Index(['URLs', 'Headline', 'Body', 'Label', 'News'], dtype='object')"
            ]
          },
          "metadata": {},
          "execution_count": 40
        }
      ]
    },
    {
      "cell_type": "code",
      "metadata": {
        "id": "uWhd8OE9SGZr"
      },
      "source": [
        "#3. Drop features that are not needed\n",
        "\n",
        "features_dropped = ['URLs','Headline','Body']\n",
        "df = df.drop(features_dropped, axis =1)"
      ],
      "execution_count": null,
      "outputs": []
    },
    {
      "cell_type": "code",
      "metadata": {
        "colab": {
          "base_uri": "https://localhost:8080/"
        },
        "id": "2u6fqgccSGNB",
        "outputId": "5c5c4284-d9b6-4fa8-c206-692484cbf02d"
      },
      "source": [
        "df.columns"
      ],
      "execution_count": null,
      "outputs": [
        {
          "output_type": "execute_result",
          "data": {
            "text/plain": [
              "Index(['Label', 'News'], dtype='object')"
            ]
          },
          "metadata": {},
          "execution_count": 42
        }
      ]
    },
    {
      "cell_type": "code",
      "metadata": {
        "id": "InFvWoxLSGBP"
      },
      "source": [
        "#Text Processing\n",
        "#Remove symbols(',','-',...etc) #Remove stop words #Stemming"
      ],
      "execution_count": null,
      "outputs": []
    },
    {
      "cell_type": "code",
      "metadata": {
        "id": "zA8fkbMbS6lm"
      },
      "source": [
        "ps = PorterStemmer()\n",
        "def wordopt(text):\n",
        "    text = re.sub('[^a-zA-Z]', ' ',text)\n",
        "    text = text.lower()\n",
        "    text = text.split()\n",
        "    text = [ps.stem(word) for word in text if not word in stopwords.words('english')]\n",
        "    text = ' '.join(text)\n",
        "    return text"
      ],
      "execution_count": null,
      "outputs": []
    },
    {
      "cell_type": "code",
      "metadata": {
        "id": "3RAhwTXLS6Bb"
      },
      "source": [
        "df['News'] = df['News'].apply(wordopt)"
      ],
      "execution_count": null,
      "outputs": []
    },
    {
      "cell_type": "code",
      "metadata": {
        "colab": {
          "base_uri": "https://localhost:8080/",
          "height": 202
        },
        "id": "Djm1sUsTS50Y",
        "outputId": "88de0b2d-a4bb-44af-f1af-b9e917f27443"
      },
      "source": [
        "df.head()"
      ],
      "execution_count": null,
      "outputs": [
        {
          "output_type": "execute_result",
          "data": {
            "text/html": [
              "<div>\n",
              "<style scoped>\n",
              "    .dataframe tbody tr th:only-of-type {\n",
              "        vertical-align: middle;\n",
              "    }\n",
              "\n",
              "    .dataframe tbody tr th {\n",
              "        vertical-align: top;\n",
              "    }\n",
              "\n",
              "    .dataframe thead th {\n",
              "        text-align: right;\n",
              "    }\n",
              "</style>\n",
              "<table border=\"1\" class=\"dataframe\">\n",
              "  <thead>\n",
              "    <tr style=\"text-align: right;\">\n",
              "      <th></th>\n",
              "      <th>Label</th>\n",
              "      <th>News</th>\n",
              "    </tr>\n",
              "  </thead>\n",
              "  <tbody>\n",
              "    <tr>\n",
              "      <th>0</th>\n",
              "      <td>1</td>\n",
              "      <td>four way bob corker skewer donald trumpimag co...</td>\n",
              "    </tr>\n",
              "    <tr>\n",
              "      <th>1</th>\n",
              "      <td>1</td>\n",
              "      <td>linklat war veteran comedi speak modern americ...</td>\n",
              "    </tr>\n",
              "    <tr>\n",
              "      <th>2</th>\n",
              "      <td>1</td>\n",
              "      <td>trump fight corker jeopard legisl agendath feu...</td>\n",
              "    </tr>\n",
              "    <tr>\n",
              "      <th>3</th>\n",
              "      <td>1</td>\n",
              "      <td>egypt cheiron win tie pemex mexican onshor oil...</td>\n",
              "    </tr>\n",
              "    <tr>\n",
              "      <th>4</th>\n",
              "      <td>1</td>\n",
              "      <td>jason aldean open snl vega tributecountri sing...</td>\n",
              "    </tr>\n",
              "  </tbody>\n",
              "</table>\n",
              "</div>"
            ],
            "text/plain": [
              "   Label                                               News\n",
              "0      1  four way bob corker skewer donald trumpimag co...\n",
              "1      1  linklat war veteran comedi speak modern americ...\n",
              "2      1  trump fight corker jeopard legisl agendath feu...\n",
              "3      1  egypt cheiron win tie pemex mexican onshor oil...\n",
              "4      1  jason aldean open snl vega tributecountri sing..."
            ]
          },
          "metadata": {},
          "execution_count": 47
        }
      ]
    },
    {
      "cell_type": "code",
      "metadata": {
        "id": "WOXpSyoyS5oh"
      },
      "source": [
        "X = df['News']\n",
        "Y = df['Label']\n",
        "\n",
        "#Split the data into training and test set\n",
        "x_train, x_test, y_train, y_test = train_test_split(X, Y, test_size=0.25)"
      ],
      "execution_count": null,
      "outputs": []
    },
    {
      "cell_type": "code",
      "metadata": {
        "colab": {
          "base_uri": "https://localhost:8080/"
        },
        "id": "eeHdOvE91fEx",
        "outputId": "2af8c47b-ecec-4cd0-dee1-0df0f84374d0"
      },
      "source": [
        "x_train"
      ],
      "execution_count": null,
      "outputs": [
        {
          "output_type": "execute_result",
          "data": {
            "text/plain": [
              "1722    lose edgelos edg reader think stori fact add t...\n",
              "1346    see us presid differ lightvideo new exhibit wa...\n",
              "3920    folk choke tampa bay buc kicker miss three fie...\n",
              "3124    import stori box score snell domin gonzalez st...\n",
              "2899    happen hbd erni honest eddi rex mauri big red ...\n",
              "                              ...                        \n",
              "1674    dove ad show black woman miracul transform whi...\n",
              "3918    fals flag vega shoot jon rappoport fals flag a...\n",
              "3820    tr pnc park era red thump buc x playoff cole b...\n",
              "1175    uk supermarket becom world first offer cashles...\n",
              "1757    career women technolog compani global challeng...\n",
              "Name: News, Length: 3006, dtype: object"
            ]
          },
          "metadata": {},
          "execution_count": 49
        }
      ]
    },
    {
      "cell_type": "code",
      "metadata": {
        "colab": {
          "base_uri": "https://localhost:8080/"
        },
        "id": "JjQmYgXy1kOF",
        "outputId": "50428e01-1456-44ef-9fe2-ca8a296e2742"
      },
      "source": [
        "x_test"
      ],
      "execution_count": null,
      "outputs": [
        {
          "output_type": "execute_result",
          "data": {
            "text/plain": [
              "2623    hogan gidley join white hous cnn hogan gidley ...\n",
              "2859    presid first ladi visit hero la vega shoot liv...\n",
              "3373    christoph columbu realli deserv holiday embatt...\n",
              "1100    trump make harder immigr start businessesforei...\n",
              "2121    joe biden write foreword transgend activist me...\n",
              "                              ...                        \n",
              "3902    offici tri nail la vega timelineauthor still t...\n",
              "548     ten peopl charg louisiana state univers haze d...\n",
              "327     australia success reform gun law us embattl ph...\n",
              "2601    post season bad day shop ws playoffsan embattl...\n",
              "1375    neo nazi denni mothersbaugh proudli wear god g...\n",
              "Name: News, Length: 1003, dtype: object"
            ]
          },
          "metadata": {},
          "execution_count": 50
        }
      ]
    },
    {
      "cell_type": "code",
      "metadata": {
        "colab": {
          "base_uri": "https://localhost:8080/"
        },
        "id": "RIEzsN-c1vZW",
        "outputId": "e9591ed0-f425-434c-f555-9f4173ba4450"
      },
      "source": [
        "y_train"
      ],
      "execution_count": null,
      "outputs": [
        {
          "output_type": "execute_result",
          "data": {
            "text/plain": [
              "1722    0\n",
              "1346    1\n",
              "3920    0\n",
              "3124    0\n",
              "2899    0\n",
              "       ..\n",
              "1674    0\n",
              "3918    0\n",
              "3820    0\n",
              "1175    0\n",
              "1757    1\n",
              "Name: Label, Length: 3006, dtype: int64"
            ]
          },
          "metadata": {},
          "execution_count": 51
        }
      ]
    },
    {
      "cell_type": "code",
      "metadata": {
        "colab": {
          "base_uri": "https://localhost:8080/"
        },
        "id": "vsVFlYr912fl",
        "outputId": "76c6c8aa-33e8-4a93-c874-3591cd5e5d79"
      },
      "source": [
        "y_test"
      ],
      "execution_count": null,
      "outputs": [
        {
          "output_type": "execute_result",
          "data": {
            "text/plain": [
              "2623    1\n",
              "2859    0\n",
              "3373    0\n",
              "1100    1\n",
              "2121    1\n",
              "       ..\n",
              "3902    1\n",
              "548     1\n",
              "327     0\n",
              "2601    0\n",
              "1375    0\n",
              "Name: Label, Length: 1003, dtype: int64"
            ]
          },
          "metadata": {},
          "execution_count": 52
        }
      ]
    },
    {
      "cell_type": "code",
      "metadata": {
        "id": "pv2iQHcsS5Ux"
      },
      "source": [
        "#Vectorization : This is used to handle our text data, by converting it into vectors"
      ],
      "execution_count": null,
      "outputs": []
    },
    {
      "cell_type": "code",
      "metadata": {
        "id": "b9zzlQWkUHkl"
      },
      "source": [
        "vectorization = TfidfVectorizer()\n",
        "xv_train = vectorization.fit_transform(x_train)\n",
        "xv_test = vectorization.transform(x_test)"
      ],
      "execution_count": null,
      "outputs": []
    },
    {
      "cell_type": "code",
      "metadata": {
        "id": "cUOvYyAxUHZq"
      },
      "source": [
        "#Model Fitting\n",
        "\n",
        "#I will be fitting my data onto 3 classifications models\n",
        "\n",
        "#RandomForestClassifier SVM Logistic Regression The best one amongst the 3 will be used further"
      ],
      "execution_count": null,
      "outputs": []
    },
    {
      "cell_type": "code",
      "metadata": {
        "colab": {
          "base_uri": "https://localhost:8080/"
        },
        "id": "dpjFkJEkUHN7",
        "outputId": "4f44958a-92e0-4834-e557-3dd11efb99c3"
      },
      "source": [
        "RFC_model = RandomForestClassifier(random_state=0)\n",
        "\n",
        "#Fitting training set to the model\n",
        "RFC_model.fit(xv_train, y_train)\n",
        "\n",
        "#Predicting the test set results based on the model\n",
        "rfc_y_pred = RFC_model.predict(xv_test)\n",
        "\n",
        "#Calculate the accuracy score of this model\n",
        "score = accuracy_score(y_test,rfc_y_pred)\n",
        "c_matrix = confusion_matrix(y_test,rfc_y_pred)\n",
        "pscore = precision_score(y_test,rfc_y_pred)\n",
        "rscore = recall_score(y_test,rfc_y_pred)\n",
        "fscore = f1_score(y_test,rfc_y_pred)\n",
        "print('Accuracy of RFC model is ', score)\n",
        "print('Confusion matrix of RFC model is ', c_matrix)\n",
        "print('precision_score of RFC model is ', pscore)\n",
        "print('recall_score of RFC model is ', rscore)\n",
        "print('f1_score of RFC model is ', fscore)"
      ],
      "execution_count": null,
      "outputs": [
        {
          "output_type": "stream",
          "name": "stdout",
          "text": [
            "Accuracy of RFC model is  0.963110667996012\n",
            "Confusion matrix of RFC model is  [[509  34]\n",
            " [  3 457]]\n",
            "precision_score of RFC model is  0.9307535641547862\n",
            "recall_score of RFC model is  0.9934782608695653\n",
            "f1_score of RFC model is  0.9610935856992641\n"
          ]
        }
      ]
    },
    {
      "cell_type": "code",
      "metadata": {
        "colab": {
          "base_uri": "https://localhost:8080/"
        },
        "id": "wpTYH9qEUG_m",
        "outputId": "f30e65d1-896c-44d3-8cfd-c9025dee9c9e"
      },
      "source": [
        "svm_model = SVC(kernel='linear')\n",
        "\n",
        "#Fitting training set to the model\n",
        "svm_model.fit(xv_train,y_train)\n",
        "\n",
        "#Predicting the test set results based on the model\n",
        "svm_y_pred = svm_model.predict(xv_test)\n",
        "\n",
        "#Calculate the accuracy score of this model\n",
        "score = accuracy_score(y_test,svm_y_pred)\n",
        "c_matrix = confusion_matrix(y_test,svm_y_pred)\n",
        "pscore = precision_score(y_test,svm_y_pred)\n",
        "rscore = recall_score(y_test,svm_y_pred)\n",
        "fscore = f1_score(y_test,svm_y_pred)\n",
        "print('Accuracy of SVM model is ', score)\n",
        "print('Confusion matrix of SVM model is ', c_matrix)\n",
        "print('precision_score of SVM model is ', pscore)\n",
        "print('recall_score of SVM model is ', rscore)\n",
        "print('f1_score of SVM model is ', fscore)"
      ],
      "execution_count": null,
      "outputs": [
        {
          "output_type": "stream",
          "name": "stdout",
          "text": [
            "Accuracy of SVM model is  0.9740777666999003\n",
            "Confusion matrix of SVM model is  [[524  19]\n",
            " [  7 453]]\n",
            "precision_score of SVM model is  0.9597457627118644\n",
            "recall_score of SVM model is  0.9847826086956522\n",
            "f1_score of SVM model is  0.9721030042918455\n"
          ]
        }
      ]
    },
    {
      "cell_type": "code",
      "metadata": {
        "colab": {
          "base_uri": "https://localhost:8080/"
        },
        "id": "F-JP7e4mUGwN",
        "outputId": "d05d28dc-6bcb-4b80-aa32-09411f15e301"
      },
      "source": [
        "LR_model = LogisticRegression()\n",
        "\n",
        "#Fitting training set to the model\n",
        "LR_model.fit(xv_train,y_train)\n",
        "\n",
        "#Predicting the test set results based on the model\n",
        "lr_y_pred = LR_model.predict(xv_test)\n",
        "\n",
        "#Calculate the accurracy of this model\n",
        "score = accuracy_score(y_test,lr_y_pred)\n",
        "c_matrix = confusion_matrix(y_test,lr_y_pred)\n",
        "pscore = precision_score(y_test,lr_y_pred)\n",
        "rscore = recall_score(y_test,lr_y_pred)\n",
        "fscore = f1_score(y_test,lr_y_pred)\n",
        "print('Accuracy of LR model is ', score)\n",
        "print('Confusion matrix of LR model is ', c_matrix)\n",
        "print('precision_score of LR model is ', pscore)\n",
        "print('recall_score of LR model is ', rscore)\n",
        "print('f1_score of LR model is ', fscore)"
      ],
      "execution_count": null,
      "outputs": [
        {
          "output_type": "stream",
          "name": "stdout",
          "text": [
            "Accuracy of LR model is  0.967098703888335\n",
            "Confusion matrix of LR model is  [[517  26]\n",
            " [  7 453]]\n",
            "precision_score of LR model is  0.9457202505219207\n",
            "recall_score of LR model is  0.9847826086956522\n",
            "f1_score of LR model is  0.9648562300319489\n"
          ]
        }
      ]
    },
    {
      "cell_type": "code",
      "metadata": {
        "id": "20gjFEg3UGU5",
        "colab": {
          "base_uri": "https://localhost:8080/"
        },
        "outputId": "60218da0-cfb6-431a-871a-577d311c43b4"
      },
      "source": [
        "DT_model = DecisionTreeClassifier()\n",
        "\n",
        "#Fitting training set to the model\n",
        "DT_model.fit(xv_train, y_train)\n",
        "\n",
        "#Predicting the test set results based on the model\n",
        "DT_y_pred = DT_model.predict(xv_test)\n",
        "\n",
        "#Calculate the accurracy ,precision , recall, f1 score of this model\n",
        "score = accuracy_score(y_test,DT_y_pred)\n",
        "c_matrix = confusion_matrix(y_test,DT_y_pred)\n",
        "pscore = precision_score(y_test,DT_y_pred)\n",
        "rscore = recall_score(y_test,DT_y_pred)\n",
        "fscore = f1_score(y_test,DT_y_pred)\n",
        "\n",
        "print('Accuracy of Decision Tree model is ', score)\n",
        "print('Confusion matrix of Decision Tree model is ', c_matrix)\n",
        "print('precision_score of Decision Tree model is ', pscore)\n",
        "print('recall_score of Decision Tree model is ', rscore)\n",
        "print('f1_score of Decision Tree model is ', fscore)\n",
        "\n"
      ],
      "execution_count": null,
      "outputs": [
        {
          "output_type": "stream",
          "name": "stdout",
          "text": [
            "Accuracy of Decision Tree model is  0.9461615154536391\n",
            "Confusion matrix of Decision Tree model is  [[523  20]\n",
            " [ 34 426]]\n",
            "precision_score of Decision Tree model is  0.9551569506726457\n",
            "recall_score of Decision Tree model is  0.9260869565217391\n",
            "f1_score of Decision Tree model is  0.9403973509933774\n"
          ]
        }
      ]
    },
    {
      "cell_type": "code",
      "metadata": {
        "id": "0OPTKOifUF28"
      },
      "source": [
        "# As SVM is able to provide best results - SVM will be used to check the news liabilit\n",
        "\n",
        "def fake_news_det(news):\n",
        "    input_data = {\"text\":[news]}\n",
        "    new_def_test = pd.DataFrame(input_data)\n",
        "    new_def_test[\"text\"] = new_def_test[\"text\"].apply(wordopt) \n",
        "    new_x_test = new_def_test[\"text\"]\n",
        "    #print(new_x_test)\n",
        "    vectorized_input_data = vectorization.transform(new_x_test)\n",
        "    prediction = svm_model.predict(vectorized_input_data)\n",
        "    \n",
        "    if prediction == 1:\n",
        "        print(\"Not a Fake News\")\n",
        "    else:\n",
        "        print(\"Fake News\")"
      ],
      "execution_count": null,
      "outputs": []
    },
    {
      "cell_type": "code",
      "metadata": {
        "id": "GcMrHa4YUFog",
        "colab": {
          "base_uri": "https://localhost:8080/"
        },
        "outputId": "6993f17b-9522-4ba4-d13b-64034ca29ae9"
      },
      "source": [
        "fake_news_det(\"JetNation FanDuel League; Week 4 of readers think this story is Fact. Add your two cents.(Before Its News)Our FanDuel league is back again this week. Here are the details:$900 in total prize money. $250 to the winner. $10 to enter.Remember this is a one week league, pick your lineup against the salary cap and next week if you want to play again you can pick a completely different lineup if you want.Click this link to enter — http://fanduel.com/JetNation You can discuss this with other NY Jets fans on the Jet Nation message board. Or visit of on Facebook.Source: http://www.jetnation.com/2017/09/27/jetnation-fanduel-league-week-4/\")\n"
      ],
      "execution_count": null,
      "outputs": [
        {
          "output_type": "stream",
          "name": "stdout",
          "text": [
            "Fake News\n"
          ]
        }
      ]
    },
    {
      "cell_type": "code",
      "metadata": {
        "id": "08W_et_mUFW0",
        "colab": {
          "base_uri": "https://localhost:8080/"
        },
        "outputId": "15faf5c3-01b8-48a3-d114-2244559d3162"
      },
      "source": [
        "fake_news_det(\"\"\"The second Covid-19 wave in India is now on the \"downswing,\" the Centre said on Thursday, highlighting that the current number of active cases is still \"very high\" and advised states and Union territories (UTs) to not let down their guards.\"\"\")"
      ],
      "execution_count": null,
      "outputs": [
        {
          "output_type": "stream",
          "name": "stdout",
          "text": [
            "Not a Fake News\n"
          ]
        }
      ]
    },
    {
      "cell_type": "code",
      "metadata": {
        "id": "S2XbO1laD0BH",
        "colab": {
          "base_uri": "https://localhost:8080/"
        },
        "outputId": "c4aa6068-0a76-4833-ec8a-871b9c87f7a4"
      },
      "source": [
        "fake_news_det(\"\"\"North Korea's Other Threat: Why EMP Becomes An Extinction Level Event\"\"\")"
      ],
      "execution_count": null,
      "outputs": [
        {
          "output_type": "stream",
          "name": "stdout",
          "text": [
            "Fake News\n"
          ]
        }
      ]
    }
  ]
}